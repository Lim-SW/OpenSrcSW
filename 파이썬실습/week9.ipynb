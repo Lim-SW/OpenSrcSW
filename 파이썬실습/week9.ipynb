{
 "cells": [
  {
   "cell_type": "code",
   "execution_count": 11,
   "id": "f8d93dd7",
   "metadata": {},
   "outputs": [
    {
     "name": "stdout",
     "output_type": "stream",
     "text": [
      "x값:5\n",
      "y = 3x^2 + 5x + 3\n",
      "y = 103\n"
     ]
    }
   ],
   "source": [
    "# 실습 문제 1번\n",
    "x=int(input('x값:'))\n",
    "\n",
    "y = 3*x**2+5*x+3\n",
    "\n",
    "print('y = 3x^2 + 5x + 3')\n",
    "print('y =',y)\n"
   ]
  },
  {
   "cell_type": "code",
   "execution_count": 12,
   "id": "ba465c47",
   "metadata": {
    "scrolled": true
   },
   "outputs": [
    {
     "name": "stdout",
     "output_type": "stream",
     "text": [
      "반지름:3\n",
      "원의 둘레 = 18.84\n",
      "원의 넓이 = 28.26\n"
     ]
    }
   ],
   "source": [
    "# 실습 문제 2번\n",
    "x=float(input('반지름:'))\n",
    "pi = 3.14\n",
    "r = x*2*pi\n",
    "a = x**2*pi\n",
    "\n",
    "print('원의 둘레 =',r)\n",
    "print('원의 넓이 =',a)\n"
   ]
  }
 ],
 "metadata": {
  "kernelspec": {
   "display_name": "Python 3",
   "language": "python",
   "name": "python3"
  },
  "language_info": {
   "codemirror_mode": {
    "name": "ipython",
    "version": 3
   },
   "file_extension": ".py",
   "mimetype": "text/x-python",
   "name": "python",
   "nbconvert_exporter": "python",
   "pygments_lexer": "ipython3",
   "version": "3.8.6"
  }
 },
 "nbformat": 4,
 "nbformat_minor": 5
}
