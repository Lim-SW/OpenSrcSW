{
 "cells": [
  {
   "cell_type": "code",
   "execution_count": 39,
   "metadata": {},
   "outputs": [
    {
     "name": "stdout",
     "output_type": "stream",
     "text": [
      "(1,2)\n",
      "(3,4)\n",
      "(4,6)\n"
     ]
    },
    {
     "ename": "AttributeError",
     "evalue": "'NoneType' object has no attribute 'show'",
     "output_type": "error",
     "traceback": [
      "\u001b[1;31m---------------------------------------------------------------------------\u001b[0m",
      "\u001b[1;31mAttributeError\u001b[0m                            Traceback (most recent call last)",
      "\u001b[1;32m<ipython-input-39-cde086f47626>\u001b[0m in \u001b[0;36m<module>\u001b[1;34m\u001b[0m\n\u001b[0;32m     23\u001b[0m \u001b[1;33m\u001b[0m\u001b[0m\n\u001b[0;32m     24\u001b[0m \u001b[0ma\u001b[0m \u001b[1;33m=\u001b[0m \u001b[0ma\u001b[0m\u001b[1;33m+\u001b[0m\u001b[0mb\u001b[0m\u001b[1;33m\u001b[0m\u001b[1;33m\u001b[0m\u001b[0m\n\u001b[1;32m---> 25\u001b[1;33m \u001b[0ma\u001b[0m\u001b[1;33m.\u001b[0m\u001b[0mshow\u001b[0m\u001b[1;33m(\u001b[0m\u001b[1;33m)\u001b[0m\u001b[1;33m\u001b[0m\u001b[1;33m\u001b[0m\u001b[0m\n\u001b[0m",
      "\u001b[1;31mAttributeError\u001b[0m: 'NoneType' object has no attribute 'show'"
     ]
    }
   ],
   "source": [
    "#1번 문제\n",
    "import numpy as np\n",
    "\n",
    "class Point:\n",
    "    def __init__(self, a, b):\n",
    "        self.a = []\n",
    "        self.a.append(a)\n",
    "        self.a.append(b)\n",
    "    \n",
    "    def show(self):\n",
    "        print('({},{})'.format(self.a[0], self.a[1]))\n",
    "    \n",
    "    def __add__(self, other):\n",
    "        self.a[0] = (self.a[0] + other.a[0])\n",
    "        self.a[1] = (self.a[1] + other.a[1])\n",
    "        print('({},{})'.format(self.a[0], self.a[1]))\n",
    "        \n",
    "a = Point(1,2)\n",
    "a.show()\n",
    "\n",
    "b = Point(3,4)\n",
    "b.show()\n",
    "\n",
    "a = a+b\n",
    "a.show()"
   ]
  },
  {
   "cell_type": "code",
   "execution_count": 67,
   "metadata": {},
   "outputs": [
    {
     "name": "stdout",
     "output_type": "stream",
     "text": [
      "Max Week = 5/8 ~ 5/14\n"
     ]
    }
   ],
   "source": [
    "#2번 문제\n",
    "\n",
    "import csv\n",
    "import numpy as np\n",
    "\n",
    "f = open('seoul.csv','r',encoding='cp949')\n",
    "data = csv.reader(f)\n",
    "row = next(data)\n",
    "# 날짜, 지점, 평균기온, 최저기온, 최고기온\n",
    "#  0     1       2         3         4\n",
    "\n",
    "total = []\n",
    "start = ''\n",
    "end = ''\n",
    "\n",
    "count = 0\n",
    "\n",
    "for row in data:\n",
    "    day = 0\n",
    "\n",
    "    if (count<4):\n",
    "        for i in range(7):\n",
    "            #print(i)\n",
    "            #print(row)\n",
    "            a = float(row[4])\n",
    "            b = float(row[3])\n",
    "            temp = a-b\n",
    "            day += temp\n",
    "            if(i != 6):\n",
    "                row = next(data)\n",
    "        total.append(day)\n",
    "        count+=1\n",
    "        \n",
    "    else:\n",
    "        for i in range(3):\n",
    "            #print(row)\n",
    "            a = float(row[4])\n",
    "            b = float(row[3])\n",
    "            temp = a-b\n",
    "            day += temp\n",
    "            if(i != 2):\n",
    "                row = next(data)\n",
    "        total.append(day)\n",
    "n = np.array(total)\n",
    "max = n.max()\n",
    "#print(total)\n",
    "\n",
    "if(max == total[0]):\n",
    "    print('Max Week = 5/1 ~ 5/7')\n",
    "elif(max == total[1]):\n",
    "    print('Max Week = 5/8 ~ 5/14')\n",
    "elif(max == total[2]):\n",
    "    print('Max Week = 5/15 ~ 5/21')\n",
    "elif(max == total[3]):\n",
    "    print('Max Week = 5/22 ~ 5/28')\n",
    "else:\n",
    "    print('Max Week = 5/29 ~ 5/31')\n",
    "\n",
    "f.close()"
   ]
  },
  {
   "cell_type": "code",
   "execution_count": 44,
   "metadata": {},
   "outputs": [],
   "source": [
    "#3번 문제\n",
    "\n",
    "#각 두벡터의 같은위치 엘리먼트 곱하고 곱한거 다 더하기\n"
   ]
  }
 ],
 "metadata": {
  "kernelspec": {
   "display_name": "Python 3",
   "language": "python",
   "name": "python3"
  },
  "language_info": {
   "codemirror_mode": {
    "name": "ipython",
    "version": 3
   },
   "file_extension": ".py",
   "mimetype": "text/x-python",
   "name": "python",
   "nbconvert_exporter": "python",
   "pygments_lexer": "ipython3",
   "version": "3.8.3"
  }
 },
 "nbformat": 4,
 "nbformat_minor": 4
}
